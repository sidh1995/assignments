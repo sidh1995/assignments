{
 "cells": [
  {
   "cell_type": "code",
   "execution_count": 2,
   "metadata": {},
   "outputs": [
    {
     "name": "stdout",
     "output_type": "stream",
     "text": [
      "4\n"
     ]
    }
   ],
   "source": [
    "# Que-2\n",
    "\n",
    "s = \"hi.My name is bhargav suryawanshi.\"\n",
    "print(s.count(\" \"))\n"
   ]
  },
  {
   "cell_type": "code",
   "execution_count": 18,
   "metadata": {},
   "outputs": [
    {
     "name": "stdout",
     "output_type": "stream",
     "text": [
      "{'Siddhart': 1, 'vyas': 1}\n"
     ]
    }
   ],
   "source": [
    "# Que-3\n",
    "\n",
    "s = input(\"enter your string here:\")\n",
    "\n",
    "def stringcount(s):\n",
    "    counts = {}\n",
    "    words = s.split()\n",
    "\n",
    "    for word in words:\n",
    "        if word in counts:\n",
    "            counts[word] += 1\n",
    "        else:\n",
    "            counts[word] = 1\n",
    "\n",
    "    return counts\n",
    "\n",
    "print(stringcount(s))\n"
   ]
  },
  {
   "cell_type": "code",
   "execution_count": 19,
   "metadata": {},
   "outputs": [
    {
     "name": "stdout",
     "output_type": "stream",
     "text": [
      "whyy sawty Heat up\n"
     ]
    }
   ],
   "source": [
    "# Que-4\n",
    "\n",
    "s1 = input(\"enter your first string here:\")\n",
    "s2 = input(\"enter your second string here:\")\n",
    "s3 = f\"{s2[:2]+s1[2:]} {s1[:2]+s2[2:]}\"\n",
    "print(s3)\n"
   ]
  },
  {
   "cell_type": "code",
   "execution_count": 20,
   "metadata": {},
   "outputs": [
    {
     "name": "stdout",
     "output_type": "stream",
     "text": [
      "Siddhart vyasing\n"
     ]
    }
   ],
   "source": [
    "# Que-5\n",
    "\n",
    "s = input(\"enter any random string:\")\n",
    "\n",
    "if len(s) >= 3:\n",
    "    if s[-3:] == \"ing\":\n",
    "        print(s[:-3] + \"ly\")\n",
    "    else:\n",
    "        print(s[:] + \"ing\")\n",
    "else:\n",
    "    print(s)\n"
   ]
  },
  {
   "cell_type": "code",
   "execution_count": 22,
   "metadata": {},
   "outputs": [
    {
     "name": "stdout",
     "output_type": "stream",
     "text": [
      "Siddhart is good but he is not poor\n"
     ]
    }
   ],
   "source": [
    "# Que-6\n",
    "\n",
    "s1 = input(\"enter your string:\")\n",
    "ni = s1.index(\"not\")\n",
    "pi = s1.index(\"poor\")\n",
    "\n",
    "if ni > pi:\n",
    "    print(f\"{s1[:pi]}good{s1[(ni + 3):]}\")\n",
    "else:\n",
    "    print(s1)"
   ]
  },
  {
   "cell_type": "code",
   "execution_count": 8,
   "metadata": {},
   "outputs": [],
   "source": [
    "# Que-7\n",
    "\n",
    "#method 1: using math module\\\n",
    "import math\n",
    "\n",
    "a = int(input(\"enter your 1st number:\"))\n",
    "b = int(input(\"enter your 2nd number:\"))\n",
    "print(\"The Greatest Common Divisor of\",a,\"and\",b,\"is:\",math.gcd(a,b))\n",
    "\n",
    "#method 2 : using recursion\n",
    "\n",
    "def gcd(a,b):\n",
    "    if (b == 0):\n",
    "        return a\n",
    "    else:\n",
    "        return gcd(b,a%b)\n",
    "\n",
    "print(\"The Greatest Common Divisor of\",a,\"and\",b,\"is:\",gcd(a,b))"
   ]
  },
  {
   "cell_type": "code",
   "execution_count": 23,
   "metadata": {},
   "outputs": [
    {
     "name": "stdout",
     "output_type": "stream",
     "text": [
      "False\n"
     ]
    }
   ],
   "source": [
    "# Que-8\n",
    "\n",
    "lst1 = [1,2,3,4,5,6,7,8,9]\n",
    "lst2 = [4,5,6]\n",
    "\n",
    "def sublist(lst1,lst2):\n",
    "    for i in range(len(lst1)):\n",
    "        if lst1[i] not in lst2:\n",
    "            return False\n",
    "        for j in range(len(lst2)):\n",
    "            if (lst1[j] in lst2) and (lst2.index(lst1[i+1]) > lst2.index(lst1[i])):\n",
    "                return True\n",
    "\n",
    "print(sublist(lst1,lst2))"
   ]
  },
  {
   "cell_type": "code",
   "execution_count": 24,
   "metadata": {},
   "outputs": [
    {
     "name": "stdout",
     "output_type": "stream",
     "text": [
      "[324, 23, 436, 234, 567, 23, 56, 23, 23, 23]\n",
      "largest element is :  567\n",
      "smallest element is:  23\n",
      "second largest element is:  436\n",
      "second smallest element is:  23\n"
     ]
    }
   ],
   "source": [
    "# Que-9\n",
    "\n",
    "l1 = []\n",
    "for i in range(10):\n",
    "    i = int(input(\"Enter your elements:\"))\n",
    "    l1.append(i)\n",
    "\n",
    "print(l1)\n",
    "\n",
    "\n",
    "#highest element\n",
    "length = len(l1)\n",
    "l1.sort()\n",
    "print(\"largest element is : \",l1[length-1])\n",
    "\n",
    "#smallest element\n",
    "print(\"smallest element is: \",l1[0])\n",
    "\n",
    "#second largest element\n",
    "print(\"second largest element is: \",l1[length-2])\n",
    "\n",
    "#second smallest element\n",
    "print(\"second smallest element is: \",l1[1])\n"
   ]
  },
  {
   "cell_type": "code",
   "execution_count": 26,
   "metadata": {},
   "outputs": [
    {
     "name": "stdout",
     "output_type": "stream",
     "text": [
      "Your original list: [12, 23, 34, 45, 56, 67, 78, 45, 32, 12]\n",
      "Your unique list: [32, 34, 67, 12, 45, 78, 23, 56]\n"
     ]
    }
   ],
   "source": [
    "# Que-10\n",
    "\n",
    "l1 = []\n",
    "for i in range(10):\n",
    "    i = int(input(\"Enter your elements:\"))\n",
    "    l1.append(i)\n",
    "\n",
    "print(\"Your original list:\",l1)\n",
    "ms = set(l1)\n",
    "l2 = list(ms)\n",
    "\n",
    "print(\"Your unique list:\",l2)"
   ]
  },
  {
   "cell_type": "code",
   "execution_count": 27,
   "metadata": {},
   "outputs": [
    {
     "name": "stdout",
     "output_type": "stream",
     "text": [
      "Your original list:  [(12, 23, 34), (45, 56, 67), (78, 89, 12)]\n",
      "your unzip list: [(12, 45, 78), (23, 56, 89), (34, 67, 12)]\n"
     ]
    }
   ],
   "source": [
    "# Que-11\n",
    "\n",
    "l = []\n",
    "l1=[]\n",
    "t = ()\n",
    "\n",
    "for i in range(3):\n",
    "    for j in range(3):\n",
    "        j = int(input(f\"Enter your {j+1} elments: \"))\n",
    "        l1.append(j)\n",
    "    l.append(tuple(l1))\n",
    "    l1.clear()\n",
    "print(\"Your original list: \",l)\n",
    "print(\"your unzip list:\",list(zip(*l)))"
   ]
  },
  {
   "cell_type": "code",
   "execution_count": 28,
   "metadata": {},
   "outputs": [
    {
     "name": "stdout",
     "output_type": "stream",
     "text": [
      "Your original list:  [(12, 23), (34, 45), (56, 67), (78, 89), (90, 12), (23, 34)]\n",
      "{12: 23, 34: 45, 56: 67, 78: 89, 90: 12, 23: 34}\n"
     ]
    }
   ],
   "source": [
    "# Que-12\n",
    "\n",
    "l = []\n",
    "l1=[]\n",
    "t = ()\n",
    "\n",
    "for i in range(6):\n",
    "    for j in range(2):\n",
    "        j = int(input(f\"Enter your {j+1} elments: \"))\n",
    "        l1.append(j)\n",
    "    l.append(tuple(l1))\n",
    "    l1.clear()\n",
    "\n",
    "print(\"Your original list: \",l)\n",
    "print(dict(l))\n"
   ]
  },
  {
   "cell_type": "code",
   "execution_count": 29,
   "metadata": {},
   "outputs": [
    {
     "name": "stdout",
     "output_type": "stream",
     "text": [
      "Your original list:  [(12, 23), (34, 45)]\n",
      "{12: 23, 34: 45}\n",
      "{12: 23, 34: 45}\n"
     ]
    }
   ],
   "source": [
    "# Que-13\n",
    "\n",
    "l = []\n",
    "l1=[]\n",
    "t = ()\n",
    "\n",
    "for i in range(2):\n",
    "    for j in range(2):\n",
    "        j = int(input(f\"Enter your {j+1} elments: \"))\n",
    "        l1.append(j)\n",
    "    l.append(tuple(l1))\n",
    "    l1.clear()\n",
    "\n",
    "print(\"Your original list: \",l)\n",
    "print(dict(l))\n",
    "\n",
    "dict2 = dict(l)\n",
    "dict3 = sorted(dict2.items())\n",
    "print(dict(dict3))"
   ]
  },
  {
   "cell_type": "code",
   "execution_count": 30,
   "metadata": {},
   "outputs": [
    {
     "name": "stdout",
     "output_type": "stream",
     "text": [
      "Your original list:  [(1, 2), (3, 4), (5, 6), (7, 8)]\n",
      "your dictionary is : {1: 2, 3: 4, 5: 6, 7: 8}\n",
      "highest values in dictionary: [8, 6, 4]\n",
      "Keys: values\n",
      "7 : 8\n",
      "5 : 6\n",
      "3 : 4\n"
     ]
    }
   ],
   "source": [
    "# Que-14\n",
    "\n",
    "l = []\n",
    "l1=[]\n",
    "t = ()\n",
    "\n",
    "for i in range(4):\n",
    "    for j in range(2):\n",
    "        j = int(input(f\"Enter your {j+1} elments: \"))\n",
    "        l1.append(j)\n",
    "    l.append(tuple(l1))\n",
    "    l1.clear()\n",
    "\n",
    "print(\"Your original list: \",l)\n",
    "dict2 = dict(l)\n",
    "\n",
    "print(\"your dictionary is :\",dict2)\n",
    "x = list(dict2.values())\n",
    "\n",
    "x.sort(reverse = True)\n",
    "x=x[:3]\n",
    "\n",
    "print(\"highest values in dictionary:\",x)\n",
    "print(\"Keys: values\")\n",
    "for k in x:\n",
    "    for f in dict2.keys():\n",
    "        if(dict2[f]==k):\n",
    "            print(str(f)+\" : \"+str(dict2[f]))"
   ]
  },
  {
   "cell_type": "code",
   "execution_count": 31,
   "metadata": {},
   "outputs": [
    {
     "name": "stdout",
     "output_type": "stream",
     "text": [
      "After1 iteration:1\n",
      "After2 iteration:1,2\n",
      "After3 iteration:1,2,3\n",
      "After4 iteration:1,2,3,5\n",
      "After5 iteration:1,2,3,5,8\n",
      "After6 iteration:1,2,3,5,8,13\n",
      "After7 iteration:1,2,3,5,8,13,21\n",
      "After8 iteration:1,2,3,5,8,13,21,34\n",
      "After9 iteration:1,2,3,5,8,13,21,34,55\n",
      "After10 iteration:1,2,3,5,8,13,21,34,55,89\n",
      "After11 iteration:1,2,3,5,8,13,21,34,55,89,144\n",
      "After12 iteration:1,2,3,5,8,13,21,34,55,89,144,233\n"
     ]
    }
   ],
   "source": [
    "# Que-15\n",
    "\n",
    "n = int(input(\"How many terms?:\"))\n",
    "\n",
    "a=0\n",
    "b=1\n",
    "c=a+b\n",
    "l=[str(c)]\n",
    "\n",
    "for i in range(n):\n",
    "    print(f\"After{i+1} iteration:{','.join(l)}\")\n",
    "    a=b\n",
    "    b=c\n",
    "    c=a+b\n",
    "    l.append(str(c))\n",
    "    \n"
   ]
  },
  {
   "cell_type": "code",
   "execution_count": 32,
   "metadata": {},
   "outputs": [],
   "source": [
    "# Que-16\n",
    "\n",
    "freq_dict = {}\n",
    "list_1 = []\n",
    "n = int(input(\"Enter how many elements do you want in list?:\"))\n",
    "for i in range(n):\n",
    "    i = int(input(\"Enter your elements:\"))\n",
    "    list_1.append(i)\n",
    "\n",
    "for items in list_1:\n",
    "    if (items in freq_dict):\n",
    "        freq_dict[items]+=1\n",
    "    else:\n",
    "        freq_dict[items] = 1\n",
    "\n",
    "print(\"Frequency of every elements are show in dictionary:\",freq_dict)"
   ]
  },
  {
   "cell_type": "code",
   "execution_count": 33,
   "metadata": {},
   "outputs": [],
   "source": [
    "# Que-17\n",
    "\n",
    "#first method\n",
    "\n",
    "import math\n",
    "\n",
    "n = int(input(\"Enter Numbers that you want a series for:\"))\n",
    "\n",
    "if n%2 == 0:\n",
    "    sum = 0\n",
    "    fact = 1\n",
    "\n",
    "    for i in range(2,n+1,2):\n",
    "        fact=math.factorial(i)\n",
    "        if i%2 == 0:\n",
    "            sum = sum + ((i*10+2)/fact)\n",
    "\n",
    "        print(sum)\n",
    "           \n",
    "\n",
    "\n",
    "else:\n",
    "    sum = 0\n",
    "    fact = 1\n",
    "\n",
    "    for i in range(1,n+1,2):\n",
    "        fact = math.factorial(i)\n",
    "        if i%2 != 0:\n",
    "            sum = sum + ( (i*10+2)/fact)\n",
    "\n",
    "        print(sum)\n",
    "    \n",
    "\n",
    "###second method\n",
    "##\n",
    "##num_input = int(input(\"Enter any value:\"))\n",
    "##\n",
    "##lst=[]\n",
    "##\n",
    "##def fact(num):\n",
    "##    if num == 1:\n",
    "##        return 1\n",
    "##    elif num > 1:\n",
    "##        return num*fact(num-1)\n",
    "##\n",
    "##odd_series_lst = even_series_lst = []\n",
    "##\n",
    "##if(num_input % 2 == 0):\n",
    "##    even_series_lst = [((x*10)+2)/fact(x) for x in range(2,num_input+1,2)]\n",
    "##    print(f\"Sum of series upto {num_input} even -> {sum(even_series_lst)}\")\n",
    "##\n",
    "##elif(num_input % 2 != 0):\n",
    "##    odd_series_lst = [((x*10)+2)/fact(x) for x in range(1,num_input+1,2)]\n",
    "##    print(f\"Sum of series upto {num_input} for odd -> {sum(odd_series_lst)}\")\n",
    "##    \n"
   ]
  },
  {
   "cell_type": "code",
   "execution_count": 34,
   "metadata": {},
   "outputs": [],
   "source": [
    "# Que-18\n",
    "\n",
    "n = int(input(\"Enter number:\"))\n",
    "fact = 1\n",
    "\n",
    "if n == 0:\n",
    "    print(\"please give proper numbers\")\n",
    "elif n == 1:\n",
    "    print(\"Your factorial number is 1\")\n",
    "else:\n",
    "    for i in range(2,n+1):\n",
    "        fact =fact*i\n",
    "\n",
    "print(\"your factorial value for given input:\",fact)"
   ]
  },
  {
   "cell_type": "code",
   "execution_count": 35,
   "metadata": {},
   "outputs": [],
   "source": [
    "# Que-19\n",
    "\n",
    "n = int(input(\"Enter numbers that elements you want in list:\"))\n",
    "list_1 = []\n",
    "for i in range(n):\n",
    "    i = int(input(f\"Enter your {i+1}th elements:\"))\n",
    "    list_1.append(i)\n",
    "print(\"Your original list:\",list_1)\n",
    "\n",
    "set_values = set(list_1)\n",
    "list_2 = list(set_values)\n",
    "\n",
    "print(\"Your unique list:\",list_2)"
   ]
  },
  {
   "cell_type": "code",
   "execution_count": null,
   "metadata": {},
   "outputs": [],
   "source": [
    "# Que-20"
   ]
  }
 ],
 "metadata": {
  "kernelspec": {
   "display_name": "Python 3",
   "language": "python",
   "name": "python3"
  },
  "language_info": {
   "codemirror_mode": {
    "name": "ipython",
    "version": 3
   },
   "file_extension": ".py",
   "mimetype": "text/x-python",
   "name": "python",
   "nbconvert_exporter": "python",
   "pygments_lexer": "ipython3",
   "version": "3.9.6"
  },
  "orig_nbformat": 4,
  "vscode": {
   "interpreter": {
    "hash": "b8eeea7db13471468ad276e1aa6abbd3f9f4200994ed792cdeec60c0462f2e2a"
   }
  }
 },
 "nbformat": 4,
 "nbformat_minor": 2
}
